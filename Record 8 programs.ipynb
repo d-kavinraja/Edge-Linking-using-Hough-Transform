{
 "cells": [
  {
   "cell_type": "code",
   "execution_count": null,
   "metadata": {},
   "outputs": [],
   "source": [
    "## Developed by : Kavinraja D\n",
    "## Reg no : 2122240047\n",
    "import cv2\n",
    "import numpy as np\n",
    "import matplotlib.pyplot as plt\n",
    "image1=cv2.imread('cat.jpg',0)\n",
    "img= cv2.GaussianBlur(image1,(3,3),0)\n",
    "plt.imshow(img)"
   ]
  },
  {
   "cell_type": "code",
   "execution_count": null,
   "metadata": {},
   "outputs": [],
   "source": [
    "\n",
    "## Developed by : Kavinraja D\n",
    "## Reg no : 2122240047\n",
    "edges1 = cv2.Canny(img,100,200)\n",
    "plt.imshow(edges1,cmap = 'gray')\n",
    "plt.title('Edge Image'), plt.xticks([]), plt.yticks([])\n",
    "plt.show()"
   ]
  },
  {
   "cell_type": "code",
   "execution_count": null,
   "metadata": {},
   "outputs": [],
   "source": [
    "## Developed by : Kavinraja D\n",
    "## Reg no : 2122240047\n",
    "lines=cv2.HoughLinesP(edges1,1,np.pi/180, threshold=80, minLineLength=50,maxLineGap=250)"
   ]
  },
  {
   "cell_type": "code",
   "execution_count": null,
   "metadata": {},
   "outputs": [],
   "source": [
    "## Developed by : Kavinraja D\n",
    "## Reg no : 2122240047\n",
    "for line in lines:\n",
    "    x1, y1, x2, y2 = line [0] \n",
    "    cv2.line(edges1,(x1, y1),(x2, y2),(255,0,0),1)"
   ]
  },
  {
   "cell_type": "code",
   "execution_count": null,
   "metadata": {},
   "outputs": [],
   "source": [
    "## Developed by : Kavinraja D\n",
    "## Reg no : 2122240047\n",
    "plt.imshow(edges1)"
   ]
  }
 ],
 "metadata": {
  "kernelspec": {
   "display_name": "Python 3",
   "language": "python",
   "name": "python3"
  },
  "language_info": {
   "codemirror_mode": {
    "name": "ipython",
    "version": 3
   },
   "file_extension": ".py",
   "mimetype": "text/x-python",
   "name": "python",
   "nbconvert_exporter": "python",
   "pygments_lexer": "ipython3",
   "version": "3.11.0"
  },
  "orig_nbformat": 4
 },
 "nbformat": 4,
 "nbformat_minor": 2
}
